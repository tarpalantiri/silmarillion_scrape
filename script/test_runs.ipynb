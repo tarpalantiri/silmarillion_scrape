{
 "metadata": {
  "language_info": {
   "codemirror_mode": {
    "name": "ipython",
    "version": 3
   },
   "file_extension": ".py",
   "mimetype": "text/x-python",
   "name": "python",
   "nbconvert_exporter": "python",
   "pygments_lexer": "ipython3",
   "version": "3.8.6-final"
  },
  "orig_nbformat": 2,
  "kernelspec": {
   "name": "python3",
   "display_name": "Python 3"
  }
 },
 "nbformat": 4,
 "nbformat_minor": 2,
 "cells": [
  {
   "cell_type": "code",
   "execution_count": 2,
   "metadata": {},
   "outputs": [],
   "source": [
    "from bs4 import BeautifulSoup\n",
    "import requests"
   ]
  },
  {
   "cell_type": "code",
   "execution_count": 3,
   "metadata": {},
   "outputs": [],
   "source": [
    "MAIN_PAGE = 'https://lotr.fandom.com'\n",
    "CHARS_PAGE_SUFFIX = 'wiki/Category:The_Silmarillion_Characters'\n",
    "CHARS_LINK_TAG_CLASS = {'class': 'category-page__member-link'}\n",
    "response = requests.get(f'{MAIN_PAGE}/{CHARS_PAGE_SUFFIX}')"
   ]
  },
  {
   "cell_type": "code",
   "execution_count": 4,
   "metadata": {},
   "outputs": [],
   "source": [
    "soup = BeautifulSoup(response.content)"
   ]
  },
  {
   "cell_type": "code",
   "execution_count": 5,
   "metadata": {
    "tags": []
   },
   "outputs": [],
   "source": [
    "atagsList = soup.findAll('a', CHARS_LINK_TAG_CLASS)"
   ]
  },
  {
   "cell_type": "code",
   "execution_count": 6,
   "metadata": {},
   "outputs": [],
   "source": [
    "char_map = dict()\n",
    "for atag in atagsList:\n",
    "    char_map[atag['title']] = MAIN_PAGE + atag['href']"
   ]
  },
  {
   "cell_type": "code",
   "execution_count": 7,
   "metadata": {},
   "outputs": [
    {
     "output_type": "stream",
     "name": "stdout",
     "text": [
      "Aegnor https://lotr.fandom.com/wiki/Aegnor\nAerandir https://lotr.fandom.com/wiki/Aerandir\nAerin https://lotr.fandom.com/wiki/Aerin\nAghan https://lotr.fandom.com/wiki/Aghan\nAmandil https://lotr.fandom.com/wiki/Amandil\nAmarië https://lotr.fandom.com/wiki/Amari%C3%AB\nAmlach https://lotr.fandom.com/wiki/Amlach\nAmras https://lotr.fandom.com/wiki/Amras\nAmrod https://lotr.fandom.com/wiki/Amrod\nAncalagon https://lotr.fandom.com/wiki/Ancalagon\nAndreth https://lotr.fandom.com/wiki/Andreth\nAndróg https://lotr.fandom.com/wiki/Andr%C3%B3g\nAngrim https://lotr.fandom.com/wiki/Angrim\nAngrod https://lotr.fandom.com/wiki/Angrod\nAnnael https://lotr.fandom.com/wiki/Annael\nAr-Adûnakhôr https://lotr.fandom.com/wiki/Ar-Ad%C3%BBnakh%C3%B4r\nAr-Gimilzôr https://lotr.fandom.com/wiki/Ar-Gimilz%C3%B4r\nAr-Pharazôn https://lotr.fandom.com/wiki/Ar-Pharaz%C3%B4n\nAr-Sakalthôr https://lotr.fandom.com/wiki/Ar-Sakalth%C3%B4r\nAr-Zimrathôn https://lotr.fandom.com/wiki/Ar-Zimrath%C3%B4n\nAranwë https://lotr.fandom.com/wiki/Aranw%C3%AB\nAratan https://lotr.fandom.com/wiki/Aratan\nAratar https://lotr.fandom.com/wiki/Aratar\nAredhel https://lotr.fandom.com/wiki/Aredhel\nArien https://lotr.fandom.com/wiki/Arien\nArthad https://lotr.fandom.com/wiki/Arthad\nAsgon https://lotr.fandom.com/wiki/Asgon\nAulë https://lotr.fandom.com/wiki/Aul%C3%AB\nAzaghâl https://lotr.fandom.com/wiki/Azagh%C3%A2l\nBarach https://lotr.fandom.com/wiki/Barach\nBaragund https://lotr.fandom.com/wiki/Baragund\nBarahir https://lotr.fandom.com/wiki/Barahir\nBaran https://lotr.fandom.com/wiki/Baran\nBeleg https://lotr.fandom.com/wiki/Beleg\nBelegund https://lotr.fandom.com/wiki/Belegund\nBereg https://lotr.fandom.com/wiki/Bereg\nBeren https://lotr.fandom.com/wiki/Beren\nBorlach https://lotr.fandom.com/wiki/Borlach\nBorlad https://lotr.fandom.com/wiki/Borlad\nBoromir (House of Bëor) https://lotr.fandom.com/wiki/Boromir_(House_of_B%C3%ABor)\nBorthand https://lotr.fandom.com/wiki/Borthand\nBrandir https://lotr.fandom.com/wiki/Brandir\nBregolas https://lotr.fandom.com/wiki/Bregolas\nBregor https://lotr.fandom.com/wiki/Bregor\nBrodda https://lotr.fandom.com/wiki/Brodda\nBëor https://lotr.fandom.com/wiki/B%C3%ABor\nBór https://lotr.fandom.com/wiki/B%C3%B3r\nCalmacil https://lotr.fandom.com/wiki/Calmacil\nCaranthir https://lotr.fandom.com/wiki/Caranthir\nCarcharoth https://lotr.fandom.com/wiki/Carcharoth\nCelebrimbor https://lotr.fandom.com/wiki/Celebrimbor\nCelegorm https://lotr.fandom.com/wiki/Celegorm\nCiryon https://lotr.fandom.com/wiki/Ciryon\nCurufin https://lotr.fandom.com/wiki/Curufin\nCírdan https://lotr.fandom.com/wiki/C%C3%ADrdan\nDaeron https://lotr.fandom.com/wiki/Daeron\nDairuin https://lotr.fandom.com/wiki/Dairuin\nDenethor (First Age) https://lotr.fandom.com/wiki/Denethor_(First_Age)\nDior https://lotr.fandom.com/wiki/Dior\nDorlas https://lotr.fandom.com/wiki/Dorlas\nDraugluin https://lotr.fandom.com/wiki/Draugluin\nDwarves named \"Durin\" https://lotr.fandom.com/wiki/Dwarves_named_%22Durin%22\nEcthelion of the Fountain https://lotr.fandom.com/wiki/Ecthelion_of_the_Fountain\nEilinel https://lotr.fandom.com/wiki/Eilinel\nElatan https://lotr.fandom.com/wiki/Elatan\nElemmírë (elf) https://lotr.fandom.com/wiki/Elemm%C3%ADr%C3%AB_(elf)\nElendil https://lotr.fandom.com/wiki/Elendil\nElendur https://lotr.fandom.com/wiki/Elendur\nElenwë https://lotr.fandom.com/wiki/Elenw%C3%AB\nElrond https://lotr.fandom.com/wiki/Elrond\nElros https://lotr.fandom.com/wiki/Elros\nEluréd and Elurín https://lotr.fandom.com/wiki/Elur%C3%A9d_and_Elur%C3%ADn\nElwing https://lotr.fandom.com/wiki/Elwing\nEmeldir https://lotr.fandom.com/wiki/Emeldir\nErellont https://lotr.fandom.com/wiki/Erellont\nEstë https://lotr.fandom.com/wiki/Est%C3%AB\nEärendil https://lotr.fandom.com/wiki/E%C3%A4rendil\nEärendur (Lord of Andúnië) https://lotr.fandom.com/wiki/E%C3%A4rendur_(Lord_of_And%C3%BAni%C3%AB)\nEärendur of Arnor https://lotr.fandom.com/wiki/E%C3%A4rendur_of_Arnor\nEärendur of Númenor https://lotr.fandom.com/wiki/E%C3%A4rendur_of_N%C3%BAmenor\nEärwen https://lotr.fandom.com/wiki/E%C3%A4rwen\nEöl https://lotr.fandom.com/wiki/E%C3%B6l\nEönwë https://lotr.fandom.com/wiki/E%C3%B6nw%C3%AB\nFalathar https://lotr.fandom.com/wiki/Falathar\nFinarfin https://lotr.fandom.com/wiki/Finarfin\nFinduilas https://lotr.fandom.com/wiki/Finduilas\nFingolfin https://lotr.fandom.com/wiki/Fingolfin\nFingon https://lotr.fandom.com/wiki/Fingon\nFinrod https://lotr.fandom.com/wiki/Finrod\nFinwë https://lotr.fandom.com/wiki/Finw%C3%AB\nFuinur https://lotr.fandom.com/wiki/Fuinur\nFëanor https://lotr.fandom.com/wiki/F%C3%ABanor\nGaladriel https://lotr.fandom.com/wiki/Galadriel\nGaldor https://lotr.fandom.com/wiki/Galdor\nGamil Zirak https://lotr.fandom.com/wiki/Gamil_Zirak\nGandalf https://lotr.fandom.com/wiki/Gandalf\nGelmir https://lotr.fandom.com/wiki/Gelmir\nGelmir (of Angrod's kin) https://lotr.fandom.com/wiki/Gelmir_(of_Angrod%27s_kin)\nGil-galad https://lotr.fandom.com/wiki/Gil-galad\nGildor (Edain) https://lotr.fandom.com/wiki/Gildor_(Edain)\nGimilkhâd https://lotr.fandom.com/wiki/Gimilkh%C3%A2d\nGlaurung https://lotr.fandom.com/wiki/Glaurung\nGlirhuin https://lotr.fandom.com/wiki/Glirhuin\nGlorfindel https://lotr.fandom.com/wiki/Glorfindel\nGlóredhel https://lotr.fandom.com/wiki/Gl%C3%B3redhel\nGorlim https://lotr.fandom.com/wiki/Gorlim\nGothmog (Balrog) https://lotr.fandom.com/wiki/Gothmog_(Balrog)\nGuilin https://lotr.fandom.com/wiki/Guilin\nGundor https://lotr.fandom.com/wiki/Gundor\nGwindor https://lotr.fandom.com/wiki/Gwindor\nHador https://lotr.fandom.com/wiki/Hador\nHaldad https://lotr.fandom.com/wiki/Haldad\nHaldan https://lotr.fandom.com/wiki/Haldan\nHaldar https://lotr.fandom.com/wiki/Haldar\nHaldir (Chieftain of the Haladin) https://lotr.fandom.com/wiki/Haldir_(Chieftain_of_the_Haladin)\nHaleth https://lotr.fandom.com/wiki/Haleth\nHalmir https://lotr.fandom.com/wiki/Halmir\nHandir https://lotr.fandom.com/wiki/Handir\nHareth https://lotr.fandom.com/wiki/Hareth\nHathaldir https://lotr.fandom.com/wiki/Hathaldir\nHerumor https://lotr.fandom.com/wiki/Herumor\nHuan https://lotr.fandom.com/wiki/Huan\nHundad https://lotr.fandom.com/wiki/Hundad\nHunthor https://lotr.fandom.com/wiki/Hunthor\nHuor https://lotr.fandom.com/wiki/Huor\nHúrin https://lotr.fandom.com/wiki/H%C3%BArin\nIbûn https://lotr.fandom.com/wiki/Ib%C3%BBn\nIdril https://lotr.fandom.com/wiki/Idril\nIlmarë https://lotr.fandom.com/wiki/Ilmar%C3%AB\nEru Ilúvatar https://lotr.fandom.com/wiki/Eru_Il%C3%BAvatar\nImlach https://lotr.fandom.com/wiki/Imlach\nIndis https://lotr.fandom.com/wiki/Indis\nIngwë https://lotr.fandom.com/wiki/Ingw%C3%AB\nInzilbêth https://lotr.fandom.com/wiki/Inzilb%C3%AAth\nIorlas https://lotr.fandom.com/wiki/Iorlas\nIrmo https://lotr.fandom.com/wiki/Irmo\nIsildur https://lotr.fandom.com/wiki/Isildur\nKhîm https://lotr.fandom.com/wiki/Kh%C3%AEm\nLalaith https://lotr.fandom.com/wiki/Lalaith\nLenwë https://lotr.fandom.com/wiki/Lenw%C3%AB\nLorgan https://lotr.fandom.com/wiki/Lorgan\nLúthien https://lotr.fandom.com/wiki/L%C3%BAthien\nMablung https://lotr.fandom.com/wiki/Mablung\nMaedhros https://lotr.fandom.com/wiki/Maedhros\nMaeglin https://lotr.fandom.com/wiki/Maeglin\nMaglor https://lotr.fandom.com/wiki/Maglor\nMahtan https://lotr.fandom.com/wiki/Mahtan\nMalach https://lotr.fandom.com/wiki/Malach\nMandos https://lotr.fandom.com/wiki/Mandos\nManwë https://lotr.fandom.com/wiki/Manw%C3%AB\nMarach https://lotr.fandom.com/wiki/Marach\nMardil Voronwë https://lotr.fandom.com/wiki/Mardil_Voronw%C3%AB\nMelian https://lotr.fandom.com/wiki/Melian\nMelkor https://lotr.fandom.com/wiki/Melkor\nMeneldil https://lotr.fandom.com/wiki/Meneldil\nMorwen https://lotr.fandom.com/wiki/Morwen\nMíriel https://lotr.fandom.com/wiki/M%C3%ADriel\nMîm https://lotr.fandom.com/wiki/M%C3%AEm\nNerdanel https://lotr.fandom.com/wiki/Nerdanel\nNessa https://lotr.fandom.com/wiki/Nessa\nNienna https://lotr.fandom.com/wiki/Nienna\nNimloth (elf) https://lotr.fandom.com/wiki/Nimloth_(elf)\nNimrodel https://lotr.fandom.com/wiki/Nimrodel\nNiënor https://lotr.fandom.com/wiki/Ni%C3%ABnor\nNúmendil https://lotr.fandom.com/wiki/N%C3%BAmendil\nOhtar https://lotr.fandom.com/wiki/Ohtar\nOlwë https://lotr.fandom.com/wiki/Olw%C3%AB\nOrodreth https://lotr.fandom.com/wiki/Orodreth\nOromë https://lotr.fandom.com/wiki/Orom%C3%AB\nOssë https://lotr.fandom.com/wiki/Oss%C3%AB\nRadhruin https://lotr.fandom.com/wiki/Radhruin\nRagnor https://lotr.fandom.com/wiki/Ragnor\nRían https://lotr.fandom.com/wiki/R%C3%ADan\nRúmil (Noldo) https://lotr.fandom.com/wiki/R%C3%BAmil_(Noldo)\nSador https://lotr.fandom.com/wiki/Sador\nSaeros https://lotr.fandom.com/wiki/Saeros\nSalmar https://lotr.fandom.com/wiki/Salmar\nSauron https://lotr.fandom.com/wiki/Sauron\nSoronto https://lotr.fandom.com/wiki/Soronto\nTar-Alcarin https://lotr.fandom.com/wiki/Tar-Alcarin\nTar-Aldarion https://lotr.fandom.com/wiki/Tar-Aldarion\nTar-Ancalimon https://lotr.fandom.com/wiki/Tar-Ancalimon\nTar-Ancalimë https://lotr.fandom.com/wiki/Tar-Ancalim%C3%AB\nTar-Anárion https://lotr.fandom.com/wiki/Tar-An%C3%A1rion\nTar-Ardamin https://lotr.fandom.com/wiki/Tar-Ardamin\nTar-Atanamir https://lotr.fandom.com/wiki/Tar-Atanamir\nTar-Calmacil https://lotr.fandom.com/wiki/Tar-Calmacil\nTar-Ciryatan https://lotr.fandom.com/wiki/Tar-Ciryatan\nTar-Elendil https://lotr.fandom.com/wiki/Tar-Elendil\nTar-Minastir https://lotr.fandom.com/wiki/Tar-Minastir\nTar-Míriel https://lotr.fandom.com/wiki/Tar-M%C3%ADriel\nTar-Palantir https://lotr.fandom.com/wiki/Tar-Palantir\nTar-Súrion https://lotr.fandom.com/wiki/Tar-S%C3%BArion\nTar-Telemmaitë https://lotr.fandom.com/wiki/Tar-Telemmait%C3%AB\nTar-Telperiën https://lotr.fandom.com/wiki/Tar-Telperi%C3%ABn\nTar-Vanimeldë https://lotr.fandom.com/wiki/Tar-Vanimeld%C3%AB\nTelchar https://lotr.fandom.com/wiki/Telchar\nThingol https://lotr.fandom.com/wiki/Thingol\nThorondor https://lotr.fandom.com/wiki/Thorondor\nThuringwethil https://lotr.fandom.com/wiki/Thuringwethil\n"
     ]
    }
   ],
   "source": [
    "for k, v in char_map.items():\n",
    "    print(k, v)"
   ]
  },
  {
   "cell_type": "code",
   "execution_count": 8,
   "metadata": {},
   "outputs": [],
   "source": [
    "soup = BeautifulSoup(requests.get(char_map['Aegnor']).text)"
   ]
  },
  {
   "cell_type": "code",
   "execution_count": 9,
   "metadata": {},
   "outputs": [],
   "source": [
    "info_sections = soup.find('section', class_='pi-item pi-group pi-border-color')"
   ]
  },
  {
   "cell_type": "code",
   "execution_count": 10,
   "metadata": {},
   "outputs": [
    {
     "output_type": "execute_result",
     "data": {
      "text/plain": [
       "<section class=\"pi-item pi-group pi-border-color\">\n",
       "<h2 class=\"pi-item pi-header pi-secondary-font pi-item-spacing pi-secondary-background\">Biographical information</h2>\n",
       "<div class=\"pi-item pi-data pi-item-spacing pi-border-color\" data-source=\"othernames\">\n",
       "<h3 class=\"pi-data-label pi-secondary-font\">Other names</h3>\n",
       "<div class=\"pi-data-value pi-font\">Egnor <sup class=\"reference\" id=\"cite_ref-1\"><a href=\"#cite_note-1\">[1]</a></sup>,<br/>Aikanár,<br/>Aikanáro</div>\n",
       "</div>\n",
       "<div class=\"pi-item pi-data pi-item-spacing pi-border-color\" data-source=\"title\">\n",
       "<h3 class=\"pi-data-label pi-secondary-font\">Titles</h3>\n",
       "<div class=\"pi-data-value pi-font\">Lord of <a href=\"/wiki/Dorthonion\" title=\"Dorthonion\">Dorthonion</a> with <a href=\"/wiki/Angrod\" title=\"Angrod\">Angrod</a></div>\n",
       "</div>\n",
       "<div class=\"pi-item pi-data pi-item-spacing pi-border-color\" data-source=\"birth\">\n",
       "<h3 class=\"pi-data-label pi-secondary-font\">Birth</h3>\n",
       "<div class=\"pi-data-value pi-font\"><a href=\"/wiki/Years_of_the_Trees\" title=\"Years of the Trees\">YT</a> ? during the <a href=\"/wiki/Noontide_of_Valinor\" title=\"Noontide of Valinor\">Noontide of Valinor</a></div>\n",
       "</div>\n",
       "<div class=\"pi-item pi-data pi-item-spacing pi-border-color\" data-source=\"death\">\n",
       "<h3 class=\"pi-data-label pi-secondary-font\">Death</h3>\n",
       "<div class=\"pi-data-value pi-font\"><a href=\"/wiki/FA_455\" title=\"FA 455\">FA 455</a><sup class=\"reference\" id=\"cite_ref-Silmarillion_2-0\"><a href=\"#cite_note-Silmarillion-2\">[2]</a></sup></div>\n",
       "</div>\n",
       "<div class=\"pi-item pi-data pi-item-spacing pi-border-color\" data-source=\"spouse\">\n",
       "<h3 class=\"pi-data-label pi-secondary-font\">Spouse</h3>\n",
       "<div class=\"pi-data-value pi-font\">Loved <a href=\"/wiki/Andreth\" title=\"Andreth\">Andreth</a>, but remained unmarried</div>\n",
       "</div>\n",
       "</section>"
      ]
     },
     "metadata": {},
     "execution_count": 10
    }
   ],
   "source": [
    "info_sections"
   ]
  },
  {
   "cell_type": "code",
   "execution_count": 11,
   "metadata": {},
   "outputs": [],
   "source": [
    "h2 = info_sections.find_next('h2', text='Physical description')"
   ]
  },
  {
   "cell_type": "code",
   "execution_count": 12,
   "metadata": {},
   "outputs": [
    {
     "output_type": "execute_result",
     "data": {
      "text/plain": [
       "<a href=\"/wiki/Elves\" title=\"Elves\">Elves</a>"
      ]
     },
     "metadata": {},
     "execution_count": 12
    }
   ],
   "source": [
    "h2.find_next('a')"
   ]
  },
  {
   "cell_type": "code",
   "execution_count": 13,
   "metadata": {},
   "outputs": [],
   "source": [
    "h2 = soup.find('h2', text='Physical description')"
   ]
  },
  {
   "cell_type": "code",
   "execution_count": 14,
   "metadata": {},
   "outputs": [
    {
     "output_type": "execute_result",
     "data": {
      "text/plain": [
       "<h2 class=\"pi-item pi-header pi-secondary-font pi-item-spacing pi-secondary-background\">Physical description</h2>"
      ]
     },
     "metadata": {},
     "execution_count": 14
    }
   ],
   "source": [
    "h2"
   ]
  },
  {
   "cell_type": "code",
   "execution_count": 15,
   "metadata": {},
   "outputs": [
    {
     "output_type": "execute_result",
     "data": {
      "text/plain": [
       "'Elves'"
      ]
     },
     "metadata": {},
     "execution_count": 15
    }
   ],
   "source": [
    "h2.find_next('a')['title']"
   ]
  },
  {
   "cell_type": "code",
   "execution_count": 19,
   "metadata": {},
   "outputs": [
    {
     "output_type": "execute_result",
     "data": {
      "text/plain": [
       "bs4.element.Tag"
      ]
     },
     "metadata": {},
     "execution_count": 19
    }
   ],
   "source": [
    "type(h2)"
   ]
  },
  {
   "cell_type": "code",
   "execution_count": null,
   "metadata": {},
   "outputs": [],
   "source": []
  }
 ]
}